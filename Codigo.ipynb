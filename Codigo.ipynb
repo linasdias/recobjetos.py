{
  "nbformat": 4,
  "nbformat_minor": 0,
  "metadata": {
    "colab": {
      "provenance": [],
      "include_colab_link": true
    },
    "kernelspec": {
      "name": "python3",
      "display_name": "Python 3"
    },
    "language_info": {
      "name": "python"
    }
  },
  "cells": [
    {
      "cell_type": "markdown",
      "metadata": {
        "id": "view-in-github",
        "colab_type": "text"
      },
      "source": [
        "<a href=\"https://colab.research.google.com/github/linasdias/recobjetos.py/blob/main/Codigo.ipynb\" target=\"_parent\"><img src=\"https://colab.research.google.com/assets/colab-badge.svg\" alt=\"Open In Colab\"/></a>"
      ]
    },
    {
      "cell_type": "markdown",
      "metadata": {
        "id": "6HI8IRfYG1h0"
      },
      "source": [
        "Importando bibliotecas, carregando modelo pré-treinado e montando pastas do drive"
      ]
    },
    {
      "cell_type": "code",
      "metadata": {
        "id": "6zFqTMOUGJuC",
        "colab": {
          "base_uri": "https://localhost:8080/"
        },
        "outputId": "3fd47016-b58e-4072-8961-0705710778df"
      },
      "source": [
        "# Bibliotecas\n",
        "import cv2\n",
        "import os\n",
        "import math\n",
        "from google.colab import drive\n",
        "import numpy as np\n",
        "import tensorflow as tf\n",
        "\n",
        "# Modelos de deep learning do Keras\n",
        "# Originais\n",
        "from keras.applications.mobilenet import MobileNet\n",
        "from keras.applications.mobilenet_v2 import MobileNetV2\n",
        "from keras.applications.mobilenet_v3 import MobileNetV3Small, MobileNetV3Large\n",
        "from keras.applications.vgg16 import VGG16\n",
        "from keras.applications.vgg19 import VGG19\n",
        "from keras.applications.inception_v3 import InceptionV3\n",
        "from keras.applications.resnet import ResNet50, ResNet101, ResNet152\n",
        "from keras.applications.xception import Xception\n",
        "from keras.applications.densenet import DenseNet169, DenseNet201\n",
        "# Adicionados pela aluna\n",
        "from keras.applications.resnet_v2 import ResNet50V2, ResNet101V2, ResNet152V2\n",
        "from keras.applications.inception_resnet_v2 import InceptionResNetV2\n",
        "from keras.applications.nasnet import NASNetMobile, NASNetLarge\n",
        "from keras.applications.efficientnet import EfficientNet, EfficientNetB0, EfficientNetB1, EfficientNetB2, EfficientNetB3, EfficientNetB4, EfficientNetB5, EfficientNetB6, EfficientNetB7\n",
        "from keras.applications.efficientnet_v2 import EfficientNetV2, EfficientNetV2B0, EfficientNetV2B1, EfficientNetV2B2, EfficientNetV2B3, EfficientNetV2L, EfficientNetV2M, EfficientNetV2S\n",
        "from keras.applications.convnext import ConvNeXtTiny, ConvNeXtSmall, ConvNeXtBase, ConvNeXtLarge, ConvNeXtXLarge\n",
        "\n",
        "# Classificadores\n",
        "# Original\n",
        "from sklearn.neighbors import KNeighborsClassifier #K-Nearest Neighbors (supervisionado)\n",
        "# Adicionados pela aluna\n",
        "from sklearn.ensemble import RandomForestClassifier #Random forest (supervisionado)\n",
        "\n",
        "# Outros\n",
        "from sklearn.metrics import confusion_matrix, classification_report\n",
        "from keras.preprocessing.image import ImageDataGenerator\n",
        "from keras.preprocessing import image\n",
        "from keras.utils import load_img\n",
        "from keras.utils import img_to_array\n",
        "from keras.applications.vgg16 import preprocess_input\n",
        "from keras.applications.vgg16 import decode_predictions\n",
        "\n",
        "# Modelos testados\n",
        "#model = MobileNetV3Small(weights='imagenet', include_top=False) #ok\n",
        "#model = MobileNetV3Large(weights='imagenet', include_top=False) #ok\n",
        "#model = MobileNetV2(weights='imagenet', include_top=False) #ok\n",
        "#model = MobileNet(weights='imagenet', include_top=False) #ok\n",
        "#model = VGG16(weights='imagenet', include_top=False) #ok\n",
        "#model = VGG19(weights='imagenet', include_top=False) #ok\n",
        "#model = InceptionV3(weights='imagenet', include_top=False) #ok\n",
        "model = ResNet50(weights='imagenet', include_top=False) #original-ok\n",
        "#model = ResNet101(weights='imagenet', include_top=False) #ok\n",
        "#model = ResNet152(weights='imagenet', include_top=False) #ok\n",
        "#model = Xception(weights='imagenet', include_top=False) #ok\n",
        "#model = DenseNet169(weights='imagenet', include_top=False) #ok\n",
        "#model = DenseNet201(weights='imagenet', include_top=False) #ok\n",
        "#model = ResNet50V2(weights='imagenet', include_top=False) #ok\n",
        "#model = ResNet101V2(weights='imagenet', include_top=False) #ok\n",
        "#model = ResNet152V2(weights='imagenet', include_top=False) #ok\n",
        "#model = InceptionResNetV2(weights='imagenet', include_top=False) #ok\n",
        "\n",
        "# Outros modelos - Não testados\n",
        "# model = EfficientNet(weights='imagenet', include_top=False)\n",
        "# model = EfficientNetB0(weights='imagenet', include_top=False)\n",
        "# model = EfficientNetB1(weights='imagenet', include_top=False)\n",
        "# model = EfficientNetB2(weights='imagenet', include_top=False)\n",
        "# model = EfficientNetB3(weights='imagenet', include_top=False)\n",
        "# model = EfficientNetB4(weights='imagenet', include_top=False)\n",
        "# model = EfficientNetB5(weights='imagenet', include_top=False)\n",
        "# model = EfficientNetB6(weights='imagenet', include_top=False)\n",
        "# model = EfficientNetB7(weights='imagenet', include_top=False)\n",
        "# model = EfficientNetB0V2(weights='imagenet', include_top=False)\n",
        "# model = EfficientNetB1V2(weights='imagenet', include_top=False)\n",
        "# model = EfficientNetB2V2(weights='imagenet', include_top=False)\n",
        "# model = EfficientNetB3V2(weights='imagenet', include_top=False)\n",
        "# model = EfficientNetV2L(weights='imagenet', include_top=False)\n",
        "# model = EfficientNetV2M(weights='imagenet', include_top=False)\n",
        "# model = EfficientNetV2S(weights='imagenet', include_top=False)\n",
        "# model = ConvNeXtTiny(weights='imagenet', include_top=False)\n",
        "# model = ConvNeXtSmall(weights='imagenet', include_top=False)\n",
        "# model = ConvNeXtBase(weights='imagenet', include_top=False)\n",
        "# model = ConvNeXtLarge(weights='imagenet', include_top=False)\n",
        "# model = ConvNeXtXLarge(weights='imagenet', include_top=False)\n",
        "#model = NASNetMobile(weights='imagenet', include_top=False)\n",
        "#model = NASNetLarge(weights='imagenet', include_top=False)\n",
        "\n",
        "#model.summary()\n",
        "\n",
        "drive.mount('/content/drive')\n",
        "dir_treino = 'drive/MyDrive/ICV/Genericos_cp/treino'\n",
        "dir_teste = 'drive/MyDrive/ICV/Genericos_cp/testes'\n"
      ],
      "execution_count": null,
      "outputs": [
        {
          "output_type": "stream",
          "name": "stdout",
          "text": [
            "Downloading data from https://storage.googleapis.com/tensorflow/keras-applications/resnet/resnet50_weights_tf_dim_ordering_tf_kernels_notop.h5\n",
            "94765736/94765736 [==============================] - 1s 0us/step\n",
            "Mounted at /content/drive\n"
          ]
        }
      ]
    },
    {
      "cell_type": "markdown",
      "metadata": {
        "id": "zO2VtCawHcq9"
      },
      "source": [
        "Aumento de Dados (ainda não funciona)"
      ]
    },
    {
      "cell_type": "code",
      "metadata": {
        "id": "1_3J6QkJn9YW",
        "colab": {
          "base_uri": "https://localhost:8080/",
          "height": 572
        },
        "outputId": "a91a4ef8-60df-4f90-ee11-64dadc7fd505"
      },
      "source": [
        "import matplotlib.pyplot as plt\n",
        "from PIL import Image\n",
        "\n",
        "# Listar arquivos de imagem no diretório\n",
        "arquivos = os.listdir(dir_teste)\n",
        "\n",
        "total_imagens = len(os.listdir(dir_teste))\n",
        "print(\"Total de imagens:\", total_imagens)\n",
        "\n",
        "# Especifique o tamanho desejado\n",
        "tamanho_desejado = (224, 224)\n",
        "\n",
        "# Carregar as imagens e armazená-las na variável samples\n",
        "samples = []\n",
        "\n",
        "# Percorrer o diretório de testes e suas subpastas\n",
        "for raiz, subpastas, arquivos in os.walk(dir_teste):\n",
        "    for arquivo in arquivos:\n",
        "        caminho_completo = os.path.join(raiz, arquivo)\n",
        "        imagem = Image.open(caminho_completo)\n",
        "        imagem_redimensionada = imagem.resize(tamanho_desejado)\n",
        "        samples.append(imagem_redimensionada)\n",
        "\n",
        "gen2 = ImageDataGenerator(\n",
        "    # rescale=1./255,  # normalizar\n",
        "    rotation_range = 45,\n",
        "    width_shift_range = 0.2,\n",
        "    height_shift_range = 0.2,\n",
        "    shear_range = 0.2,\n",
        "    zoom_range = 0.2,\n",
        "    brightness_range = (0.5, 1.5),\n",
        "    horizontal_flip = True,\n",
        "    vertical_flip = False,\n",
        "    fill_mode=\"constant\"  # reflect #constant #wrap\n",
        ")\n",
        "# prepare iterator\n",
        "it = gen2.flow_from_directory(dir_teste, target_size=tamanho_desejado, batch_size=56, shuffle=False)\n",
        "# generate samples and plot\n",
        "for i in range(9):\n",
        "    # define subplot\n",
        "    plt.subplot(330 + 1 + i)\n",
        "    # generate batch of images\n",
        "    batch = it.next()\n",
        "    # convert to unsigned integers for viewing\n",
        "    image2 = batch[0].astype('uint8')\n",
        "    # plot raw pixel data\n",
        "    plt.imshow(image2)\n",
        "# show the figure\n",
        "plt.show()\n"
      ],
      "execution_count": null,
      "outputs": [
        {
          "output_type": "stream",
          "name": "stdout",
          "text": [
            "Total de imagens: 15\n",
            "Found 46 images belonging to 15 classes.\n"
          ]
        },
        {
          "output_type": "error",
          "ename": "TypeError",
          "evalue": "ignored",
          "traceback": [
            "\u001b[0;31m---------------------------------------------------------------------------\u001b[0m",
            "\u001b[0;31mTypeError\u001b[0m                                 Traceback (most recent call last)",
            "\u001b[0;32m<ipython-input-44-6188e00b5a71>\u001b[0m in \u001b[0;36m<cell line: 39>\u001b[0;34m()\u001b[0m\n\u001b[1;32m     45\u001b[0m     \u001b[0mimage2\u001b[0m \u001b[0;34m=\u001b[0m \u001b[0mbatch\u001b[0m\u001b[0;34m[\u001b[0m\u001b[0;36m0\u001b[0m\u001b[0;34m]\u001b[0m\u001b[0;34m.\u001b[0m\u001b[0mastype\u001b[0m\u001b[0;34m(\u001b[0m\u001b[0;34m'uint8'\u001b[0m\u001b[0;34m)\u001b[0m\u001b[0;34m\u001b[0m\u001b[0;34m\u001b[0m\u001b[0m\n\u001b[1;32m     46\u001b[0m     \u001b[0;31m# plot raw pixel data\u001b[0m\u001b[0;34m\u001b[0m\u001b[0;34m\u001b[0m\u001b[0m\n\u001b[0;32m---> 47\u001b[0;31m     \u001b[0mplt\u001b[0m\u001b[0;34m.\u001b[0m\u001b[0mimshow\u001b[0m\u001b[0;34m(\u001b[0m\u001b[0mimage2\u001b[0m\u001b[0;34m)\u001b[0m\u001b[0;34m\u001b[0m\u001b[0;34m\u001b[0m\u001b[0m\n\u001b[0m\u001b[1;32m     48\u001b[0m \u001b[0;31m# show the figure\u001b[0m\u001b[0;34m\u001b[0m\u001b[0;34m\u001b[0m\u001b[0m\n\u001b[1;32m     49\u001b[0m \u001b[0mplt\u001b[0m\u001b[0;34m.\u001b[0m\u001b[0mshow\u001b[0m\u001b[0;34m(\u001b[0m\u001b[0;34m)\u001b[0m\u001b[0;34m\u001b[0m\u001b[0;34m\u001b[0m\u001b[0m\n",
            "\u001b[0;32m/usr/local/lib/python3.10/dist-packages/matplotlib/pyplot.py\u001b[0m in \u001b[0;36mimshow\u001b[0;34m(X, cmap, norm, aspect, interpolation, alpha, vmin, vmax, origin, extent, interpolation_stage, filternorm, filterrad, resample, url, data, **kwargs)\u001b[0m\n\u001b[1;32m   2693\u001b[0m         \u001b[0minterpolation_stage\u001b[0m\u001b[0;34m=\u001b[0m\u001b[0;32mNone\u001b[0m\u001b[0;34m,\u001b[0m \u001b[0mfilternorm\u001b[0m\u001b[0;34m=\u001b[0m\u001b[0;32mTrue\u001b[0m\u001b[0;34m,\u001b[0m \u001b[0mfilterrad\u001b[0m\u001b[0;34m=\u001b[0m\u001b[0;36m4.0\u001b[0m\u001b[0;34m,\u001b[0m\u001b[0;34m\u001b[0m\u001b[0;34m\u001b[0m\u001b[0m\n\u001b[1;32m   2694\u001b[0m         resample=None, url=None, data=None, **kwargs):\n\u001b[0;32m-> 2695\u001b[0;31m     __ret = gca().imshow(\n\u001b[0m\u001b[1;32m   2696\u001b[0m         \u001b[0mX\u001b[0m\u001b[0;34m,\u001b[0m \u001b[0mcmap\u001b[0m\u001b[0;34m=\u001b[0m\u001b[0mcmap\u001b[0m\u001b[0;34m,\u001b[0m \u001b[0mnorm\u001b[0m\u001b[0;34m=\u001b[0m\u001b[0mnorm\u001b[0m\u001b[0;34m,\u001b[0m \u001b[0maspect\u001b[0m\u001b[0;34m=\u001b[0m\u001b[0maspect\u001b[0m\u001b[0;34m,\u001b[0m\u001b[0;34m\u001b[0m\u001b[0;34m\u001b[0m\u001b[0m\n\u001b[1;32m   2697\u001b[0m         \u001b[0minterpolation\u001b[0m\u001b[0;34m=\u001b[0m\u001b[0minterpolation\u001b[0m\u001b[0;34m,\u001b[0m \u001b[0malpha\u001b[0m\u001b[0;34m=\u001b[0m\u001b[0malpha\u001b[0m\u001b[0;34m,\u001b[0m \u001b[0mvmin\u001b[0m\u001b[0;34m=\u001b[0m\u001b[0mvmin\u001b[0m\u001b[0;34m,\u001b[0m\u001b[0;34m\u001b[0m\u001b[0;34m\u001b[0m\u001b[0m\n",
            "\u001b[0;32m/usr/local/lib/python3.10/dist-packages/matplotlib/__init__.py\u001b[0m in \u001b[0;36minner\u001b[0;34m(ax, data, *args, **kwargs)\u001b[0m\n\u001b[1;32m   1440\u001b[0m     \u001b[0;32mdef\u001b[0m \u001b[0minner\u001b[0m\u001b[0;34m(\u001b[0m\u001b[0max\u001b[0m\u001b[0;34m,\u001b[0m \u001b[0;34m*\u001b[0m\u001b[0margs\u001b[0m\u001b[0;34m,\u001b[0m \u001b[0mdata\u001b[0m\u001b[0;34m=\u001b[0m\u001b[0;32mNone\u001b[0m\u001b[0;34m,\u001b[0m \u001b[0;34m**\u001b[0m\u001b[0mkwargs\u001b[0m\u001b[0;34m)\u001b[0m\u001b[0;34m:\u001b[0m\u001b[0;34m\u001b[0m\u001b[0;34m\u001b[0m\u001b[0m\n\u001b[1;32m   1441\u001b[0m         \u001b[0;32mif\u001b[0m \u001b[0mdata\u001b[0m \u001b[0;32mis\u001b[0m \u001b[0;32mNone\u001b[0m\u001b[0;34m:\u001b[0m\u001b[0;34m\u001b[0m\u001b[0;34m\u001b[0m\u001b[0m\n\u001b[0;32m-> 1442\u001b[0;31m             \u001b[0;32mreturn\u001b[0m \u001b[0mfunc\u001b[0m\u001b[0;34m(\u001b[0m\u001b[0max\u001b[0m\u001b[0;34m,\u001b[0m \u001b[0;34m*\u001b[0m\u001b[0mmap\u001b[0m\u001b[0;34m(\u001b[0m\u001b[0msanitize_sequence\u001b[0m\u001b[0;34m,\u001b[0m \u001b[0margs\u001b[0m\u001b[0;34m)\u001b[0m\u001b[0;34m,\u001b[0m \u001b[0;34m**\u001b[0m\u001b[0mkwargs\u001b[0m\u001b[0;34m)\u001b[0m\u001b[0;34m\u001b[0m\u001b[0;34m\u001b[0m\u001b[0m\n\u001b[0m\u001b[1;32m   1443\u001b[0m \u001b[0;34m\u001b[0m\u001b[0m\n\u001b[1;32m   1444\u001b[0m         \u001b[0mbound\u001b[0m \u001b[0;34m=\u001b[0m \u001b[0mnew_sig\u001b[0m\u001b[0;34m.\u001b[0m\u001b[0mbind\u001b[0m\u001b[0;34m(\u001b[0m\u001b[0max\u001b[0m\u001b[0;34m,\u001b[0m \u001b[0;34m*\u001b[0m\u001b[0margs\u001b[0m\u001b[0;34m,\u001b[0m \u001b[0;34m**\u001b[0m\u001b[0mkwargs\u001b[0m\u001b[0;34m)\u001b[0m\u001b[0;34m\u001b[0m\u001b[0;34m\u001b[0m\u001b[0m\n",
            "\u001b[0;32m/usr/local/lib/python3.10/dist-packages/matplotlib/axes/_axes.py\u001b[0m in \u001b[0;36mimshow\u001b[0;34m(self, X, cmap, norm, aspect, interpolation, alpha, vmin, vmax, origin, extent, interpolation_stage, filternorm, filterrad, resample, url, **kwargs)\u001b[0m\n\u001b[1;32m   5663\u001b[0m                               **kwargs)\n\u001b[1;32m   5664\u001b[0m \u001b[0;34m\u001b[0m\u001b[0m\n\u001b[0;32m-> 5665\u001b[0;31m         \u001b[0mim\u001b[0m\u001b[0;34m.\u001b[0m\u001b[0mset_data\u001b[0m\u001b[0;34m(\u001b[0m\u001b[0mX\u001b[0m\u001b[0;34m)\u001b[0m\u001b[0;34m\u001b[0m\u001b[0;34m\u001b[0m\u001b[0m\n\u001b[0m\u001b[1;32m   5666\u001b[0m         \u001b[0mim\u001b[0m\u001b[0;34m.\u001b[0m\u001b[0mset_alpha\u001b[0m\u001b[0;34m(\u001b[0m\u001b[0malpha\u001b[0m\u001b[0;34m)\u001b[0m\u001b[0;34m\u001b[0m\u001b[0;34m\u001b[0m\u001b[0m\n\u001b[1;32m   5667\u001b[0m         \u001b[0;32mif\u001b[0m \u001b[0mim\u001b[0m\u001b[0;34m.\u001b[0m\u001b[0mget_clip_path\u001b[0m\u001b[0;34m(\u001b[0m\u001b[0;34m)\u001b[0m \u001b[0;32mis\u001b[0m \u001b[0;32mNone\u001b[0m\u001b[0;34m:\u001b[0m\u001b[0;34m\u001b[0m\u001b[0;34m\u001b[0m\u001b[0m\n",
            "\u001b[0;32m/usr/local/lib/python3.10/dist-packages/matplotlib/image.py\u001b[0m in \u001b[0;36mset_data\u001b[0;34m(self, A)\u001b[0m\n\u001b[1;32m    708\u001b[0m         if not (self._A.ndim == 2\n\u001b[1;32m    709\u001b[0m                 or self._A.ndim == 3 and self._A.shape[-1] in [3, 4]):\n\u001b[0;32m--> 710\u001b[0;31m             raise TypeError(\"Invalid shape {} for image data\"\n\u001b[0m\u001b[1;32m    711\u001b[0m                             .format(self._A.shape))\n\u001b[1;32m    712\u001b[0m \u001b[0;34m\u001b[0m\u001b[0m\n",
            "\u001b[0;31mTypeError\u001b[0m: Invalid shape (46, 224, 224, 3) for image data"
          ]
        },
        {
          "output_type": "display_data",
          "data": {
            "text/plain": [
              "<Figure size 640x480 with 1 Axes>"
            ],
            "image/png": "[encoded data removed]"
          },
          "metadata": {}
        }
      ]
    },
    {
      "cell_type": "markdown",
      "metadata": {
        "id": "dzaUnVIkHHE-"
      },
      "source": [
        "Extraindo descritores de características a partir da rede pré-treinada"
      ]
    },
    {
      "cell_type": "code",
      "metadata": {
        "id": "qvBuB24-SKXH",
        "colab": {
          "base_uri": "https://localhost:8080/"
        },
        "outputId": "c6d723c9-e650-424e-93c6-c4d800337662"
      },
      "source": [
        "def retirar_descritores( path ):\n",
        "    dirPaths = [os.path.join(path, f) for f in os.listdir(path)]\n",
        "    descritores = []\n",
        "    IDs = []\n",
        "    nomes = []\n",
        "    for dirPath in dirPaths:\n",
        "        imagePaths = [os.path.join(dirPath, f) for f in os.listdir(dirPath)]\n",
        "        for imagePath in imagePaths:\n",
        "            #img = load_img(imagePath,target_size=(331, 331)) #NASNetLarge\n",
        "            img = load_img(imagePath,target_size=(224,224))\n",
        "            x_train = img_to_array(img)\n",
        "            x_train = np.expand_dims(x_train, axis=0)\n",
        "            x_train = preprocess_input(x_train)\n",
        "            descritor = model.predict(x_train)\n",
        "            descritores.append(descritor)\n",
        "\n",
        "            ID = imagePath[38:40]\n",
        "            IDs.append(ID)\n",
        "            nomes.append(imagePath[40:imagePath.find('/',40)])\n",
        "            print('.', end ='')\n",
        "    print('\\n');\n",
        "    descritores_np = np.array(descritores)\n",
        "    return IDs, descritores_np, nomes\n",
        "\n",
        "IDs_treino, descritores_treino, nomes_treino = retirar_descritores(dir_treino)\n",
        "IDs_teste, descritores_teste, nomes_teste = retirar_descritores(dir_teste)\n",
        "\n",
        "tamanho_descritor_treino = descritores_treino.shape[1]\n",
        "tamanho_vetor_descritor_treino = descritores_treino.shape[0]\n",
        "descritores_treino = descritores_treino.reshape(descritores_treino.shape[0], -1)\n",
        "\n",
        "tamanho_descritor_teste = descritores_teste.shape[1]\n",
        "tamanho_vetor_descritor_teste = descritores_teste.shape[0]\n",
        "descritores_teste = descritores_teste.reshape(descritores_teste.shape[0], -1)\n",
        "\n",
        "print('Conjunto de Treino\\n');\n",
        "print(IDs_treino);\n",
        "print(nomes_treino);\n",
        "print(tamanho_descritor_treino);\n",
        "print(tamanho_vetor_descritor_treino);\n",
        "print('Conjunto de Teste\\n')\n",
        "print(IDs_teste);\n",
        "print(nomes_teste);\n",
        "print(tamanho_descritor_teste);\n",
        "print(tamanho_vetor_descritor_teste);"
      ],
      "execution_count": null,
      "outputs": [
        {
          "output_type": "stream",
          "name": "stdout",
          "text": [
            "1/1 [==============================] - 5s 5s/step\n",
            "1/1 [==============================] - 0s 296ms/step\n",
            "1/1 [==============================] - 0s 291ms/step\n",
            "1/1 [==============================] - 0s 312ms/step\n",
            "1/1 [==============================] - 0s 286ms/step\n",
            "1/1 [==============================] - 0s 307ms/step\n",
            "1/1 [==============================] - 0s 295ms/step\n",
            "1/1 [==============================] - 0s 293ms/step\n",
            "1/1 [==============================] - 0s 274ms/step\n",
            "1/1 [==============================] - 0s 294ms/step\n",
            "1/1 [==============================] - 0s 286ms/step\n",
            "1/1 [==============================] - 0s 283ms/step\n",
            "1/1 [==============================] - 0s 305ms/step\n",
            "1/1 [==============================] - 0s 275ms/step\n",
            "1/1 [==============================] - 0s 288ms/step\n",
            "1/1 [==============================] - 0s 286ms/step\n",
            "1/1 [==============================] - 0s 287ms/step\n",
            "1/1 [==============================] - 0s 288ms/step\n",
            "1/1 [==============================] - 0s 299ms/step\n",
            "1/1 [==============================] - 0s 418ms/step\n",
            "1/1 [==============================] - 1s 533ms/step\n",
            "1/1 [==============================] - 1s 524ms/step\n",
            "1/1 [==============================] - 0s 499ms/step\n",
            "1/1 [==============================] - 1s 512ms/step\n",
            "1/1 [==============================] - 0s 469ms/step\n",
            "1/1 [==============================] - 0s 277ms/step\n",
            "1/1 [==============================] - 0s 292ms/step\n",
            "1/1 [==============================] - 0s 273ms/step\n",
            "1/1 [==============================] - 0s 286ms/step\n",
            "1/1 [==============================] - 0s 280ms/step\n",
            "1/1 [==============================] - 0s 286ms/step\n",
            "1/1 [==============================] - 0s 292ms/step\n",
            "1/1 [==============================] - 0s 280ms/step\n",
            "1/1 [==============================] - 0s 295ms/step\n",
            "1/1 [==============================] - 0s 282ms/step\n",
            "1/1 [==============================] - 0s 281ms/step\n",
            "1/1 [==============================] - 0s 289ms/step\n",
            "1/1 [==============================] - 0s 285ms/step\n",
            "1/1 [==============================] - 0s 293ms/step\n",
            "1/1 [==============================] - 0s 279ms/step\n",
            "1/1 [==============================] - 0s 283ms/step\n",
            "1/1 [==============================] - 0s 295ms/step\n",
            "1/1 [==============================] - 0s 288ms/step\n",
            "1/1 [==============================] - 0s 293ms/step\n",
            "1/1 [==============================] - 0s 283ms/step\n",
            "1/1 [==============================] - 0s 279ms/step\n",
            "1/1 [==============================] - 0s 294ms/step\n",
            "1/1 [==============================] - 0s 317ms/step\n",
            "1/1 [==============================] - 1s 511ms/step\n",
            "1/1 [==============================] - 1s 515ms/step\n",
            "1/1 [==============================] - 1s 540ms/step\n",
            "1/1 [==============================] - 1s 510ms/step\n",
            "1/1 [==============================] - 0s 498ms/step\n",
            "1/1 [==============================] - 0s 297ms/step\n",
            "1/1 [==============================] - 0s 285ms/step\n",
            "1/1 [==============================] - 0s 278ms/step\n",
            "1/1 [==============================] - 0s 289ms/step\n",
            "1/1 [==============================] - 0s 282ms/step\n",
            "1/1 [==============================] - 0s 290ms/step\n",
            "1/1 [==============================] - 0s 283ms/step\n",
            "1/1 [==============================] - 0s 292ms/step\n",
            "1/1 [==============================] - 0s 280ms/step\n",
            "1/1 [==============================] - 0s 288ms/step\n",
            "1/1 [==============================] - 0s 279ms/step\n",
            "1/1 [==============================] - 0s 283ms/step\n",
            ".\n",
            "\n",
            "1/1 [==============================] - 0s 291ms/step\n",
            "1/1 [==============================] - 0s 283ms/step\n",
            "1/1 [==============================] - 0s 299ms/step\n",
            "1/1 [==============================] - 0s 286ms/step\n",
            "1/1 [==============================] - 0s 287ms/step\n",
            "1/1 [==============================] - 0s 280ms/step\n",
            "1/1 [==============================] - 0s 289ms/step\n",
            "1/1 [==============================] - 0s 302ms/step\n",
            "1/1 [==============================] - 0s 283ms/step\n",
            "1/1 [==============================] - 0s 298ms/step\n",
            "1/1 [==============================] - 0s 320ms/step\n",
            "1/1 [==============================] - 1s 518ms/step\n",
            "1/1 [==============================] - 1s 512ms/step\n",
            "1/1 [==============================] - 1s 504ms/step\n",
            "1/1 [==============================] - 1s 506ms/step\n",
            "1/1 [==============================] - 0s 355ms/step\n",
            "1/1 [==============================] - 0s 283ms/step\n",
            "1/1 [==============================] - 0s 297ms/step\n",
            "1/1 [==============================] - 0s 281ms/step\n",
            "1/1 [==============================] - 0s 292ms/step\n",
            "1/1 [==============================] - 0s 280ms/step\n",
            "1/1 [==============================] - 0s 285ms/step\n",
            "1/1 [==============================] - 0s 283ms/step\n",
            "1/1 [==============================] - 0s 281ms/step\n",
            "1/1 [==============================] - 0s 289ms/step\n",
            "1/1 [==============================] - 0s 277ms/step\n",
            "1/1 [==============================] - 0s 294ms/step\n",
            "1/1 [==============================] - 0s 288ms/step\n",
            "1/1 [==============================] - 0s 288ms/step\n",
            "1/1 [==============================] - 0s 279ms/step\n",
            "1/1 [==============================] - 0s 301ms/step\n",
            "1/1 [==============================] - 0s 275ms/step\n",
            "1/1 [==============================] - 0s 291ms/step\n",
            "1/1 [==============================] - 0s 286ms/step\n",
            "1/1 [==============================] - 0s 298ms/step\n",
            "1/1 [==============================] - 0s 285ms/step\n",
            "1/1 [==============================] - 0s 350ms/step\n",
            "1/1 [==============================] - 1s 514ms/step\n",
            "1/1 [==============================] - 1s 514ms/step\n",
            "1/1 [==============================] - 1s 541ms/step\n",
            "1/1 [==============================] - 0s 499ms/step\n",
            "1/1 [==============================] - 0s 356ms/step\n",
            "1/1 [==============================] - 0s 283ms/step\n",
            "1/1 [==============================] - 0s 293ms/step\n",
            "1/1 [==============================] - 0s 284ms/step\n",
            "1/1 [==============================] - 0s 296ms/step\n",
            ".\n",
            "\n",
            "Conjunto de Treino\n",
            "\n",
            "['01', '01', '01', '01', '02', '02', '02', '02', '02', '03', '03', '03', '03', '04', '04', '04', '04', '04', '05', '05', '05', '05', '06', '06', '06', '06', '07', '07', '07', '07', '08', '08', '08', '08', '09', '09', '09', '09', '10', '10', '10', '10', '10', '11', '11', '11', '11', '12', '12', '12', '12', '12', '13', '13', '13', '13', '14', '14', '14', '14', '14', '15', '15', '15', '15']\n",
            "['brometo de ipratrópio', 'brometo de ipratrópio', 'brometo de ipratrópio', 'brometo de ipratrópio', 'cafalexina', 'cafalexina', 'cafalexina', 'cafalexina', 'cafalexina', 'captopril', 'captopril', 'captopril', 'captopril', 'carvedilol', 'carvedilol', 'carvedilol', 'carvedilol', 'carvedilol', 'cetoprofeno', 'cetoprofeno', 'cetoprofeno', 'cetoprofeno', 'citrato de sildenafila', 'citrato de sildenafila', 'citrato de sildenafila', 'citrato de sildenafila', 'cloridrato de metformina', 'cloridrato de metformina', 'cloridrato de metformina', 'cloridrato de metformina', 'espironolactona', 'espironolactona', 'espironolactona', 'espironolactona', 'ivermectina', 'ivermectina', 'ivermectina', 'ivermectina', 'levofloxacino', 'levofloxacino', 'levofloxacino', 'levofloxacino', 'levofloxacino', 'losartana potássica', 'losartana potássica', 'losartana potássica', 'losartana potássica', 'maleato de enalapril', 'maleato de enalapril', 'maleato de enalapril', 'maleato de enalapril', 'maleato de enalapril', 'maleato de enalapril 10mg', 'maleato de enalapril 10mg', 'maleato de enalapril 10mg', 'maleato de enalapril 10mg', 'maleato de timolol', 'maleato de timolol', 'maleato de timolol', 'maleato de timolol', 'maleato de timolol', 'metronidazol', 'metronidazol', 'metronidazol', 'metronidazol']\n",
            "1\n",
            "65\n",
            "Conjunto de Teste\n",
            "\n",
            "['01', '01', '01', '02', '02', '02', '03', '03', '03', '04', '04', '04', '05', '05', '05', '06', '06', '06', '07', '07', '07', '08', '08', '08', '09', '09', '09', '10', '10', '10', '11', '11', '11', '11', '12', '12', '12', '13', '13', '13', '14', '14', '14', '15', '15', '15']\n",
            "['brometo de ipratrópio', 'brometo de ipratrópio', 'brometo de ipratrópio', 'cafalexina', 'cafalexina', 'cafalexina', 'captopril', 'captopril', 'captopril', 'carvedilol', 'carvedilol', 'carvedilol', 'cetoprofeno', 'cetoprofeno', 'cetoprofeno', 'citrato de sildenafila', 'citrato de sildenafila', 'citrato de sildenafila', 'cloridrato de metformina', 'cloridrato de metformina', 'cloridrato de metformina', 'espironolactona', 'espironolactona', 'espironolactona', 'ivermectina', 'ivermectina', 'ivermectina', 'levofloxacino', 'levofloxacino', 'levofloxacino', 'losartana potássica', 'losartana potássica', 'losartana potássica', 'losartana potássica', 'maleato de enalapril', 'maleato de enalapril', 'maleato de enalapril', 'maleato de enalapril 10mg', 'maleato de enalapril 10mg', 'maleato de enalapril 10mg', 'maleato de timolol', 'maleato de timolol', 'maleato de timolol', 'metronidazol', 'metronidazol', 'metronidazol']\n",
            "1\n",
            "46\n"
          ]
        }
      ]
    },
    {
      "cell_type": "markdown",
      "metadata": {
        "id": "ySX2F6cTHSm1"
      },
      "source": [
        "Classificando com o KNN"
      ]
    },
    {
      "cell_type": "code",
      "metadata": {
        "colab": {
          "base_uri": "https://localhost:8080/"
        },
        "id": "YTKX1m_oxm6h",
        "outputId": "e4bdfd94-b1a0-46d2-e8ec-f01907b899f8"
      },
      "source": [
        "model = KNeighborsClassifier(n_neighbors=1)\n",
        "\n",
        "# Train the model using the training sets\n",
        "model.fit(descritores_treino,IDs_treino)\n",
        "\n",
        "#Predicted Output\n",
        "predicted= model.predict(descritores_teste)\n",
        "\n",
        "acertos = 0\n",
        "for label, pred in zip(IDs_teste, predicted):\n",
        "    if (label == pred):\n",
        "        acertos+=1\n",
        "\n",
        "taxa_acuracia = acertos/tamanho_vetor_descritor_teste\n",
        "\n",
        "# Adicionado pela aluna\n",
        "# Calculate the confusion matrix\n",
        "cm = confusion_matrix(IDs_teste, predicted)\n",
        "\n",
        "# Calculate the metrics for each class\n",
        "report = classification_report(IDs_teste, predicted, output_dict=True)\n",
        "\n",
        "# Calculate the average metrics\n",
        "recall = report['macro avg']['recall']\n",
        "#specificity = np.mean([cm[i,i]/(np.sum(cm[:,i])-cm[i,i]) if (np.sum(cm[:,i])-cm[i,i]) != 0 else 1 for i in range(cm.shape[0])])\n",
        "precision = report['macro avg']['precision']\n",
        "f1_score = report['macro avg']['f1-score']\n",
        "\n",
        "print(predicted)\n",
        "print(f'Acertos: {acertos}')\n",
        "print(f'Acurácia: {taxa_acuracia:.5f}')\n",
        "print(f'Recall: {recall:.5f}')\n",
        "#print(f'Especificidade: {specificity:.5f}')\n",
        "print(f'Precisão: {precision:.5f}')\n",
        "print(f'F1-score: {f1_score:.5f}')\n",
        "print(cm)"
      ],
      "execution_count": null,
      "outputs": [
        {
          "output_type": "stream",
          "name": "stdout",
          "text": [
            "['01' '14' '01' '02' '14' '02' '03' '03' '03' '04' '14' '14' '05' '05'\n",
            " '05' '06' '06' '06' '07' '14' '07' '08' '08' '08' '15' '14' '03' '10'\n",
            " '14' '10' '03' '07' '07' '07' '12' '14' '14' '13' '13' '13' '14' '14'\n",
            " '14' '15' '14' '15']\n",
            "Acertos: 30\n",
            "Acurácia: 0.65217\n",
            "Recall: 0.66667\n",
            "Precisão: 0.72650\n",
            "F1-score: 0.64611\n",
            "[[2 0 0 0 0 0 0 0 0 0 0 0 0 1 0]\n",
            " [0 2 0 0 0 0 0 0 0 0 0 0 0 1 0]\n",
            " [0 0 3 0 0 0 0 0 0 0 0 0 0 0 0]\n",
            " [0 0 0 1 0 0 0 0 0 0 0 0 0 2 0]\n",
            " [0 0 0 0 3 0 0 0 0 0 0 0 0 0 0]\n",
            " [0 0 0 0 0 3 0 0 0 0 0 0 0 0 0]\n",
            " [0 0 0 0 0 0 2 0 0 0 0 0 0 1 0]\n",
            " [0 0 0 0 0 0 0 3 0 0 0 0 0 0 0]\n",
            " [0 0 1 0 0 0 0 0 0 0 0 0 0 1 1]\n",
            " [0 0 0 0 0 0 0 0 0 2 0 0 0 1 0]\n",
            " [0 0 1 0 0 0 3 0 0 0 0 0 0 0 0]\n",
            " [0 0 0 0 0 0 0 0 0 0 0 1 0 2 0]\n",
            " [0 0 0 0 0 0 0 0 0 0 0 0 3 0 0]\n",
            " [0 0 0 0 0 0 0 0 0 0 0 0 0 3 0]\n",
            " [0 0 0 0 0 0 0 0 0 0 0 0 0 1 2]]\n"
          ]
        },
        {
          "output_type": "stream",
          "name": "stderr",
          "text": [
            "/usr/local/lib/python3.10/dist-packages/sklearn/metrics/_classification.py:1344: UndefinedMetricWarning: Precision and F-score are ill-defined and being set to 0.0 in labels with no predicted samples. Use `zero_division` parameter to control this behavior.\n",
            "  _warn_prf(average, modifier, msg_start, len(result))\n",
            "/usr/local/lib/python3.10/dist-packages/sklearn/metrics/_classification.py:1344: UndefinedMetricWarning: Precision and F-score are ill-defined and being set to 0.0 in labels with no predicted samples. Use `zero_division` parameter to control this behavior.\n",
            "  _warn_prf(average, modifier, msg_start, len(result))\n",
            "/usr/local/lib/python3.10/dist-packages/sklearn/metrics/_classification.py:1344: UndefinedMetricWarning: Precision and F-score are ill-defined and being set to 0.0 in labels with no predicted samples. Use `zero_division` parameter to control this behavior.\n",
            "  _warn_prf(average, modifier, msg_start, len(result))\n"
          ]
        }
      ]
    },
    {
      "cell_type": "markdown",
      "source": [
        "Classificando com Random Forest"
      ],
      "metadata": {
        "id": "VKuSfuc08bUT"
      }
    },
    {
      "cell_type": "code",
      "source": [
        "# Cria o classificador Random Forest\n",
        "model = RandomForestClassifier(n_estimators=100)\n",
        "\n",
        "# Treina o modelo usando os conjuntos de treino\n",
        "model.fit(descritores_treino, IDs_treino)\n",
        "\n",
        "# Predicted Output\n",
        "forest_predicted = model.predict(descritores_teste)\n",
        "\n",
        "f_acertos = 0\n",
        "for f_label, f_pred in zip(IDs_teste, forest_predicted):\n",
        "    if (f_label == f_pred):\n",
        "        f_acertos+=1\n",
        "\n",
        "f_taxa_acuracia = f_acertos/tamanho_vetor_descritor_teste\n",
        "\n",
        "# Adicionado pela aluna\n",
        "# Calculate the confusion matrix\n",
        "f_cm = confusion_matrix(IDs_teste, forest_predicted)\n",
        "\n",
        "# Calculate the metrics for each class\n",
        "f_report = classification_report(IDs_teste, forest_predicted, output_dict=True, zero_division=1)\n",
        "\n",
        "# Calculate the average metrics\n",
        "f_recall = f_report['macro avg']['recall']\n",
        "f_precision = f_report['macro avg']['precision']\n",
        "f_f1_score = f_report['macro avg']['f1-score']\n",
        "\n",
        "print(forest_predicted)\n",
        "print(f'Acertos: {f_acertos}')\n",
        "print(f'Acurácia: {f_taxa_acuracia:.5f}')\n",
        "print(f'Recall: {f_recall:.5f}')\n",
        "print(f'Precisão: {f_precision:.5f}')\n",
        "print(f'F1-score: {f_f1_score:.5f}')\n",
        "print(f_cm)"
      ],
      "metadata": {
        "colab": {
          "base_uri": "https://localhost:8080/"
        },
        "id": "-V7puqCN8eJQ",
        "outputId": "330bfb03-6a07-49f6-8aac-5608bb7f44ae"
      },
      "execution_count": null,
      "outputs": [
        {
          "output_type": "stream",
          "name": "stdout",
          "text": [
            "['01' '08' '02' '01' '01' '02' '03' '11' '02' '12' '01' '02' '05' '08'\n",
            " '02' '11' '08' '02' '07' '02' '02' '08' '08' '02' '10' '10' '01' '10'\n",
            " '10' '02' '02' '01' '01' '10' '06' '06' '02' '06' '06' '02' '03' '08'\n",
            " '02' '09' '10' '02']\n",
            "Acertos: 9\n",
            "Acurácia: 0.19565\n",
            "Recall: 0.20000\n",
            "Precisão: 0.49175\n",
            "F1-score: 0.17333\n",
            "[[1 1 0 0 0 0 0 1 0 0 0 0 0 0 0]\n",
            " [2 1 0 0 0 0 0 0 0 0 0 0 0 0 0]\n",
            " [0 1 1 0 0 0 0 0 0 0 1 0 0 0 0]\n",
            " [1 1 0 0 0 0 0 0 0 0 0 1 0 0 0]\n",
            " [0 1 0 0 1 0 0 1 0 0 0 0 0 0 0]\n",
            " [0 1 0 0 0 0 0 1 0 0 1 0 0 0 0]\n",
            " [0 2 0 0 0 0 1 0 0 0 0 0 0 0 0]\n",
            " [0 1 0 0 0 0 0 2 0 0 0 0 0 0 0]\n",
            " [1 0 0 0 0 0 0 0 0 2 0 0 0 0 0]\n",
            " [0 1 0 0 0 0 0 0 0 2 0 0 0 0 0]\n",
            " [2 1 0 0 0 0 0 0 0 1 0 0 0 0 0]\n",
            " [0 1 0 0 0 2 0 0 0 0 0 0 0 0 0]\n",
            " [0 1 0 0 0 2 0 0 0 0 0 0 0 0 0]\n",
            " [0 1 1 0 0 0 0 1 0 0 0 0 0 0 0]\n",
            " [0 1 0 0 0 0 0 0 1 1 0 0 0 0 0]]\n"
          ]
        }
      ]
    },
    {
      "cell_type": "markdown",
      "source": [
        "Classificando com SVMs (Support Vector Machine)"
      ],
      "metadata": {
        "id": "lUZokNIP-BYi"
      }
    },
    {
      "cell_type": "code",
      "source": [
        "from sklearn.svm import SVC\n",
        "from sklearn.metrics import classification_report, confusion_matrix\n",
        "\n",
        "# Cria o classificador SVM\n",
        "model = SVC()\n",
        "\n",
        "# Treina o modelo usando os conjuntos de treino\n",
        "model.fit(descritores_treino, IDs_treino)\n",
        "\n",
        "# Predicted Output\n",
        "svm_predicted = model.predict(descritores_teste)\n",
        "\n",
        "s_acertos = 0\n",
        "for s_label, s_pred in zip(IDs_teste, svm_predicted):\n",
        "    if s_label == s_pred:\n",
        "        s_acertos += 1\n",
        "\n",
        "s_taxa_acuracia = s_acertos / len(descritores_teste)\n",
        "\n",
        "# Calculate the confusion matrix\n",
        "s_cm = confusion_matrix(IDs_teste, svm_predicted)\n",
        "\n",
        "# Calculate the metrics for each class\n",
        "s_report = classification_report(IDs_teste, svm_predicted, output_dict=True, zero_division=1)\n",
        "\n",
        "# Calculate the average metrics\n",
        "s_recall = s_report[\"macro avg\"][\"recall\"]\n",
        "s_precision = s_report[\"macro avg\"][\"precision\"]\n",
        "s_f1_score = s_report[\"macro avg\"][\"f1-score\"]\n",
        "\n",
        "print(svm_predicted)\n",
        "print(f\"Acertos: {s_acertos}\")\n",
        "print(f\"Acurácia: {s_taxa_acuracia:.5f}\")\n",
        "print(f\"Recall: {s_recall:.5f}\")\n",
        "print(f\"Precisão: {s_precision:.5f}\")\n",
        "print(f\"F1-score: {s_f1_score:.5f}\")\n",
        "print(s_cm)\n"
      ],
      "metadata": {
        "colab": {
          "base_uri": "https://localhost:8080/"
        },
        "id": "rrkxVflK-EPx",
        "outputId": "230fcb40-ae8a-4f9a-d2b1-6a2879491c51"
      },
      "execution_count": null,
      "outputs": [
        {
          "output_type": "stream",
          "name": "stdout",
          "text": [
            "['10' '12' '12' '10' '12' '12' '10' '12' '12' '10' '14' '14' '06' '12'\n",
            " '02' '06' '12' '12' '10' '12' '12' '10' '12' '14' '12' '12' '13' '10'\n",
            " '12' '12' '06' '06' '12' '14' '10' '12' '12' '13' '14' '12' '10' '12'\n",
            " '14' '10' '12' '14']\n",
            "Acertos: 6\n",
            "Acurácia: 0.13043\n",
            "Recall: 0.13333\n",
            "Precisão: 0.67225\n",
            "F1-score: 0.07997\n",
            "[[0 0 0 0 0 0 0 0 0 1 0 2 0 0 0]\n",
            " [0 0 0 0 0 0 0 0 0 1 0 2 0 0 0]\n",
            " [0 0 0 0 0 0 0 0 0 1 0 2 0 0 0]\n",
            " [0 0 0 0 0 0 0 0 0 1 0 0 0 2 0]\n",
            " [0 1 0 0 0 1 0 0 0 0 0 1 0 0 0]\n",
            " [0 0 0 0 0 1 0 0 0 0 0 2 0 0 0]\n",
            " [0 0 0 0 0 0 0 0 0 1 0 2 0 0 0]\n",
            " [0 0 0 0 0 0 0 0 0 1 0 1 0 1 0]\n",
            " [0 0 0 0 0 0 0 0 0 0 0 2 1 0 0]\n",
            " [0 0 0 0 0 0 0 0 0 1 0 2 0 0 0]\n",
            " [0 0 0 0 0 2 0 0 0 0 0 1 0 1 0]\n",
            " [0 0 0 0 0 0 0 0 0 1 0 2 0 0 0]\n",
            " [0 0 0 0 0 0 0 0 0 0 0 1 1 1 0]\n",
            " [0 0 0 0 0 0 0 0 0 1 0 1 0 1 0]\n",
            " [0 0 0 0 0 0 0 0 0 1 0 1 0 1 0]]\n"
          ]
        }
      ]
    }
  ]
}